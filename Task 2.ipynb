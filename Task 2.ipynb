{
 "cells": [
  {
   "cell_type": "code",
   "execution_count": 15,
   "metadata": {},
   "outputs": [
    {
     "name": "stdout",
     "output_type": "stream",
     "text": [
      "Defaulting to user installation because normal site-packages is not writeable\n",
      "Requirement already satisfied: networkx[default] in c:\\users\\mtthe\\appdata\\roaming\\python\\python39\\site-packages (3.0)\n",
      "Requirement already satisfied: numpy>=1.20 in c:\\programdata\\miniconda3\\lib\\site-packages (from networkx[default]) (1.21.5)\n",
      "Requirement already satisfied: matplotlib>=3.4 in c:\\programdata\\miniconda3\\lib\\site-packages (from networkx[default]) (3.5.2)\n",
      "Requirement already satisfied: pandas>=1.3 in c:\\users\\mtthe\\appdata\\roaming\\python\\python39\\site-packages (from networkx[default]) (1.5.2)\n",
      "Requirement already satisfied: scipy>=1.8 in c:\\users\\mtthe\\appdata\\roaming\\python\\python39\\site-packages (from networkx[default]) (1.10.0)\n",
      "Requirement already satisfied: cycler>=0.10 in c:\\programdata\\miniconda3\\lib\\site-packages (from matplotlib>=3.4->networkx[default]) (0.11.0)\n",
      "Requirement already satisfied: packaging>=20.0 in c:\\programdata\\miniconda3\\lib\\site-packages (from matplotlib>=3.4->networkx[default]) (21.3)\n",
      "Requirement already satisfied: pyparsing>=2.2.1 in c:\\programdata\\miniconda3\\lib\\site-packages (from matplotlib>=3.4->networkx[default]) (3.0.9)\n",
      "Requirement already satisfied: pillow>=6.2.0 in c:\\programdata\\miniconda3\\lib\\site-packages (from matplotlib>=3.4->networkx[default]) (9.2.0)\n",
      "Requirement already satisfied: python-dateutil>=2.7 in c:\\programdata\\miniconda3\\lib\\site-packages (from matplotlib>=3.4->networkx[default]) (2.8.2)\n",
      "Requirement already satisfied: fonttools>=4.22.0 in c:\\programdata\\miniconda3\\lib\\site-packages (from matplotlib>=3.4->networkx[default]) (4.25.0)\n",
      "Requirement already satisfied: kiwisolver>=1.0.1 in c:\\programdata\\miniconda3\\lib\\site-packages (from matplotlib>=3.4->networkx[default]) (1.4.2)\n",
      "Requirement already satisfied: pytz>=2020.1 in c:\\programdata\\miniconda3\\lib\\site-packages (from pandas>=1.3->networkx[default]) (2022.1)\n",
      "Requirement already satisfied: six>=1.5 in c:\\programdata\\miniconda3\\lib\\site-packages (from python-dateutil>=2.7->matplotlib>=3.4->networkx[default]) (1.16.0)\n"
     ]
    }
   ],
   "source": [
    "!pip install networkx[default]"
   ]
  },
  {
   "cell_type": "code",
   "execution_count": 16,
   "metadata": {},
   "outputs": [
    {
     "name": "stderr",
     "output_type": "stream",
     "text": [
      "fatal: destination path 'Community-detection' already exists and is not an empty directory.\n"
     ]
    }
   ],
   "source": [
    "!git clone -b data https://github.com/tu-leminh/Community-detection.git"
   ]
  },
  {
   "cell_type": "code",
   "execution_count": 17,
   "metadata": {},
   "outputs": [],
   "source": [
    "import networkx as nx\n",
    "from networkx.algorithms import community\n",
    "from pyspark.sql import SparkSession\n",
    "from pyspark.sql import functions as F\n",
    "spark = SparkSession .builder .appName(\"Task 2\") .getOrCreate()"
   ]
  },
  {
   "cell_type": "code",
   "execution_count": 18,
   "metadata": {},
   "outputs": [],
   "source": [
    "df = spark.read.csv(\"Community-detection/ub_sample_data.csv\",header=True)"
   ]
  },
  {
   "cell_type": "code",
   "execution_count": 19,
   "metadata": {},
   "outputs": [
    {
     "data": {
      "text/plain": [
       "<bound method DataFrame.printSchema of DataFrame[user_id: string, business_id: string]>"
      ]
     },
     "execution_count": 19,
     "metadata": {},
     "output_type": "execute_result"
    }
   ],
   "source": [
    "df.printSchema"
   ]
  },
  {
   "cell_type": "code",
   "execution_count": 20,
   "metadata": {},
   "outputs": [
    {
     "name": "stdout",
     "output_type": "stream",
     "text": [
      "+----------------------+----------------------+\n",
      "|user_id               |business_id           |\n",
      "+----------------------+----------------------+\n",
      "|39FT2Ui8KUXwmUt6hnwy-g|RJSFI7mxGnkIIKiJCufLkg|\n",
      "|39FT2Ui8KUXwmUt6hnwy-g|fThrN4tfupIGetkrz18JOg|\n",
      "|39FT2Ui8KUXwmUt6hnwy-g|mvLdgkwBzqllHWHwS-ZZgQ|\n",
      "+----------------------+----------------------+\n",
      "only showing top 3 rows\n",
      "\n"
     ]
    }
   ],
   "source": [
    "df.show(3,truncate=False)"
   ]
  },
  {
   "cell_type": "code",
   "execution_count": 21,
   "metadata": {},
   "outputs": [
    {
     "name": "stdout",
     "output_type": "stream",
     "text": [
      "+----------------------+----------------------+----------------------+\n",
      "|business_id           |x                     |y                     |\n",
      "+----------------------+----------------------+----------------------+\n",
      "|RJSFI7mxGnkIIKiJCufLkg|39FT2Ui8KUXwmUt6hnwy-g|Et6mwzOORak5K6kJ-yw4Xw|\n",
      "|RJSFI7mxGnkIIKiJCufLkg|39FT2Ui8KUXwmUt6hnwy-g|jfaz1aQqnkbtzQfQyCE8IA|\n",
      "|RJSFI7mxGnkIIKiJCufLkg|39FT2Ui8KUXwmUt6hnwy-g|a0PH_2zKVQExMP5w-OJQKw|\n",
      "+----------------------+----------------------+----------------------+\n",
      "only showing top 3 rows\n",
      "\n"
     ]
    }
   ],
   "source": [
    "df=df.select(F.col(\"user_id\").alias(\"x\"),F.col('business_id')).join(df.select(F.col(\"user_id\").alias(\"y\"),F.col('business_id')),on=\"business_id\",)\n",
    "df.show(3,truncate=False)"
   ]
  },
  {
   "cell_type": "code",
   "execution_count": 22,
   "metadata": {},
   "outputs": [
    {
     "name": "stdout",
     "output_type": "stream",
     "text": [
      "+--------------------+--------------------+-----+\n",
      "|                   x|                   y|count|\n",
      "+--------------------+--------------------+-----+\n",
      "|39FT2Ui8KUXwmUt6h...|WPcEBAbrPZxvCGlvH...|    1|\n",
      "|39FT2Ui8KUXwmUt6h...|7G8w2SnaC-qDVQ7_G...|    1|\n",
      "|39FT2Ui8KUXwmUt6h...|fYJf6G30hZlhVxWTO...|    2|\n",
      "+--------------------+--------------------+-----+\n",
      "only showing top 3 rows\n",
      "\n"
     ]
    }
   ],
   "source": [
    "df=df.groupBy([\"x\",\"y\"]).count()\n",
    "df.show(3)"
   ]
  },
  {
   "cell_type": "code",
   "execution_count": 23,
   "metadata": {},
   "outputs": [
    {
     "name": "stdout",
     "output_type": "stream",
     "text": [
      "+--------------------+--------------------+\n",
      "|                   x|                   y|\n",
      "+--------------------+--------------------+\n",
      "|TZ974xcbw2kqjYxAh...|JM0GL6Dx4EuZ1mprL...|\n",
      "|fLnkI1uHtXEsjtF6K...|MwpK7PqQX7fgTFM2P...|\n",
      "|7Vfy39A_totC-w70q...|0FVcoJko1kfZCrJRf...|\n",
      "+--------------------+--------------------+\n",
      "only showing top 3 rows\n",
      "\n"
     ]
    }
   ],
   "source": [
    "df=df.filter(\"count >= 7\").select(\"x\",\"y\").filter(\"x!=y\")\n",
    "df.show(3)"
   ]
  },
  {
   "cell_type": "code",
   "execution_count": 24,
   "metadata": {},
   "outputs": [],
   "source": [
    "G = nx.Graph()\n",
    "for row in df.collect():\n",
    "    G.add_node(row[\"x\"])\n",
    "    G.add_node(row[\"y\"])\n",
    "    G.add_edge(row[\"x\"], row[\"y\"])\n",
    "G=G.to_undirected()"
   ]
  },
  {
   "cell_type": "code",
   "execution_count": 25,
   "metadata": {},
   "outputs": [],
   "source": [
    "def rm_until_new_com(G):\n",
    "    pre=nx.number_connected_components(G)\n",
    "    while(nx.number_connected_components(G)==pre):\n",
    "        dic = nx.edge_betweenness_centrality(G)\n",
    "        edge=max(dic, key=dic.get)\n",
    "        G.remove_edge(*edge)\n",
    "    return(G)\n",
    "\n",
    "\n",
    "def gn_algorithm(G,k=1):\n",
    "    if len(G.edges)==0:\n",
    "        return G\n",
    "    g=G.copy()\n",
    "    for i in range(k):\n",
    "        if (len(g.edges)<=0): continue\n",
    "        rm_until_new_com(g)\n",
    "    return list(nx.connected_components(g))"
   ]
  },
  {
   "cell_type": "code",
   "execution_count": 26,
   "metadata": {},
   "outputs": [],
   "source": [
    "tempt=sorted([len(i) for i in gn_algorithm(G,1)],reverse=True)"
   ]
  },
  {
   "cell_type": "code",
   "execution_count": 27,
   "metadata": {},
   "outputs": [
    {
     "name": "stdout",
     "output_type": "stream",
     "text": [
      "[132, 58, 5, 4, 4, 3, 2, 2, 2, 2, 2, 2, 2, 2] True\n"
     ]
    }
   ],
   "source": [
    "#https://networkx.guide/algorithms/community-detection/girvan-newman/\n",
    "import networkx as nx\n",
    "from networkx.algorithms.community.centrality import girvan_newman\n",
    "\n",
    "communities = girvan_newman(G)\n",
    "\n",
    "node_groups = []\n",
    "for com in next(communities):\n",
    "    node_groups.append(len(com))\n",
    "\n",
    "print(sorted(node_groups,reverse=True),tempt==sorted(node_groups,reverse=True))"
   ]
  },
  {
   "cell_type": "code",
   "execution_count": 31,
   "metadata": {},
   "outputs": [
    {
     "name": "stdout",
     "output_type": "stream",
     "text": [
      "[38, 33, 25, 16, 14, 14, 11, 9, 6, 5, 5, 4, 4, 4, 4, 4, 3, 3, 3, 2, 2, 2, 2, 2, 2, 2, 2, 1]\n"
     ]
    }
   ],
   "source": [
    "print(sorted([len(i) for i in gn_algorithm(G,15)],reverse=True))"
   ]
  }
 ],
 "metadata": {
  "kernelspec": {
   "display_name": "base",
   "language": "python",
   "name": "python3"
  },
  "language_info": {
   "codemirror_mode": {
    "name": "ipython",
    "version": 3
   },
   "file_extension": ".py",
   "mimetype": "text/x-python",
   "name": "python",
   "nbconvert_exporter": "python",
   "pygments_lexer": "ipython3",
   "version": "3.9.12"
  },
  "orig_nbformat": 4,
  "vscode": {
   "interpreter": {
    "hash": "19d1d53a962d236aa061289c2ac16dc8e6d9648c89fe79f459ae9a3493bc67b4"
   }
  }
 },
 "nbformat": 4,
 "nbformat_minor": 2
}
